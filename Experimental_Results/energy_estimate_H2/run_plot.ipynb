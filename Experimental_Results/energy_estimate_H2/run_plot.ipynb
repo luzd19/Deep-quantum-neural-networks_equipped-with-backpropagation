{
 "cells": [
  {
   "cell_type": "code",
   "execution_count": null,
   "metadata": {},
   "outputs": [],
   "source": [
    "import scipy.io as scio\n",
    "import numpy as np \n",
    "import matplotlib.pyplot as plt \n",
    "import matplotlib.ticker as ticker"
   ]
  },
  {
   "cell_type": "code",
   "execution_count": null,
   "metadata": {},
   "outputs": [],
   "source": [
    "learning_curves = scio.loadmat('exp_result_energy_estimate_H2/learning_curves.mat')['learning_curves'] ;"
   ]
  },
  {
   "cell_type": "code",
   "execution_count": null,
   "metadata": {},
   "outputs": [],
   "source": [
    "# learning_curves[:,-1]"
   ]
  },
  {
   "cell_type": "code",
   "execution_count": null,
   "metadata": {},
   "outputs": [],
   "source": [
    "plt.rc('font', family = \"Times New Roman\", size = 10) #字体样式和大小\n",
    "fig, ax = plt.subplots(figsize=(3.4,3), dpi=500)\n",
    "\n",
    "ax.set_xlim(left = -0.3,right = 38.3); ax.set_ylim(bottom = -1.8, top = -0.3)\n",
    "\n",
    "for i in range(10):\n",
    "    ax.plot(learning_curves[i], linestyle = '-', marker = 'o', markersize = 3, linewidth = 1.5)\n",
    "\n",
    "ax.set_xlabel('Epoch', labelpad = 3)  \n",
    "ax.set_ylabel(\"Energy estimate (hartree)\", labelpad = 3)  \n",
    "\n",
    "# ax.grid(color = 'gray', linestyle = '--', linewidth = 0.2)\n",
    " \n",
    "\n",
    "def make_label(value, pos):\n",
    "    return '%0.0f%%' % (100/30. * value)\n",
    "\n",
    "left, bottom, width, height = 0.55,0.5,0.4,0.4\n",
    "ax2 = fig.add_axes([left, bottom, width, height])\n",
    "\n",
    "ax2.hist(learning_curves[:,-1], bins = 5, rwidth = 0.5,color='green', histtype='bar', alpha=0.9)\n",
    "\n",
    "\n",
    "ax2.set_xlim(left = -1.85,right = -0.4); ax2.set_ylim(bottom = 0, top = 15)\n",
    "ax2.xaxis.set_major_locator(ticker.MultipleLocator(0.5))\n",
    "\n",
    "ax2.yaxis.set_major_locator(ticker.MultipleLocator(6))\n",
    "ax2.yaxis.set_major_formatter(ticker.FuncFormatter(make_label))\n",
    "\n",
    "\n",
    "ax2.set_xlabel('Energy estimate (hartree)', labelpad = 0)\n",
    "ax2.set_ylabel('Proportion', labelpad = 3)\n",
    "\n",
    "plt.subplots_adjust(left = 0.15, bottom = 0.14, top = 0.98,right = 0.98, hspace = None, wspace = None)\n",
    "\n"
   ]
  },
  {
   "cell_type": "code",
   "execution_count": null,
   "metadata": {},
   "outputs": [],
   "source": []
  },
  {
   "cell_type": "code",
   "execution_count": null,
   "metadata": {},
   "outputs": [],
   "source": [
    "# fig.savefig('fig-exp_result_energy_estimate_H2.pdf', format='pdf')"
   ]
  },
  {
   "cell_type": "code",
   "execution_count": null,
   "metadata": {},
   "outputs": [],
   "source": []
  },
  {
   "cell_type": "code",
   "execution_count": null,
   "metadata": {},
   "outputs": [],
   "source": []
  }
 ],
 "metadata": {
  "kernelspec": {
   "display_name": "qutip-env",
   "language": "python",
   "name": "qutip-env"
  },
  "language_info": {
   "codemirror_mode": {
    "name": "ipython",
    "version": 3
   },
   "file_extension": ".py",
   "mimetype": "text/x-python",
   "name": "python",
   "nbconvert_exporter": "python",
   "pygments_lexer": "ipython3",
   "version": "3.9.7"
  }
 },
 "nbformat": 4,
 "nbformat_minor": 4
}
