{
 "cells": [
  {
   "cell_type": "code",
   "execution_count": null,
   "metadata": {},
   "outputs": [],
   "source": [
    "import scipy.io as scio\n",
    "import numpy as np \n",
    "import matplotlib.pyplot as plt \n",
    "import matplotlib.ticker as ticker"
   ]
  },
  {
   "cell_type": "code",
   "execution_count": null,
   "metadata": {},
   "outputs": [],
   "source": [
    "# scio.loadmat('exp_result_one_qubit_channel/learning_curves.mat')"
   ]
  },
  {
   "cell_type": "code",
   "execution_count": null,
   "metadata": {},
   "outputs": [],
   "source": [
    "data_0 = scio.loadmat('exp_result_one_qubit_channel/learning_curves.mat');\n",
    "learning_curves = data_0['learning_curves'] ;\n",
    "untrained = scio.loadmat('exp_result_one_qubit_channel/distribution_untrained.mat')\n",
    "X_untrained = untrained['X'][0] ; \n",
    "Y_untrained = untrained['Y'][0] ; \n",
    "\n",
    "trained = scio.loadmat('exp_result_one_qubit_channel/distribution_trained.mat') ;\n",
    "X_trained = trained['X'][0] ; \n",
    "Y_trained = trained['Y'][0] ;"
   ]
  },
  {
   "cell_type": "code",
   "execution_count": null,
   "metadata": {},
   "outputs": [],
   "source": []
  },
  {
   "cell_type": "code",
   "execution_count": null,
   "metadata": {},
   "outputs": [],
   "source": [
    "# learning_curves[:,-1] "
   ]
  },
  {
   "cell_type": "code",
   "execution_count": null,
   "metadata": {},
   "outputs": [],
   "source": [
    "plt.rc('font', family = \"Times New Roman\", size = 10) #字体样式和大小\n",
    "fig, ax = plt.subplots(figsize=(3.4,4), dpi=500)\n",
    "\n",
    "ax.set_xlim(left = -0.5,right = 70); ax.set_ylim(bottom = 0.2, top = 1)\n",
    "\n",
    "for i in range(1,10):\n",
    "    ax.plot(learning_curves[i], linestyle = '-', marker = 'o', markersize = 2, linewidth = 1.2)\n",
    "    \n",
    "ax.plot(learning_curves[0], linestyle = '-', marker = '>', markersize = 3.5, linewidth = 1)\n",
    "ax.set_xlabel('Epoch', labelpad = 3)  \n",
    "ax.set_ylabel(\"Mean fidelity\", labelpad = 3)  \n",
    "\n",
    "# ax.grid(color = 'gray', linestyle = '--', linewidth = 0.15)\n",
    "\n",
    "\n",
    "#-----------------------------------------------------------------------------------------\n",
    "left, bottom, width, height = 0.38,0.45,0.5,0.38\n",
    "ax2 = fig.add_axes([left, bottom, width, height])\n",
    "ax2.set_xlim(left = 0.5, right = 1); ax2.set_ylim(bottom = 0, top = 25);\n",
    "\n",
    "# 轴坐标范围\n",
    "ax2.yaxis.set_major_locator(ticker.MultipleLocator(5))\n",
    "ax2.xaxis.set_major_locator(ticker.MultipleLocator(0.1))\n",
    "\n",
    "# 轴标签 \n",
    "ax2.set_ylabel('Proportion', labelpad = 2)\n",
    "ax2.set_xlabel('Fidelity', labelpad = 2)\n",
    "\n",
    "def make_label(value, pos):\n",
    "    return '%0.0f%%' % (value)\n",
    "ax2.yaxis.set_major_formatter(ticker.FuncFormatter(make_label))\n",
    "\n",
    "#作图\n",
    "ax2.plot(X_untrained, Y_untrained, color='purple', \\\n",
    "           linestyle = '-', marker = 'o', markersize = 1.2, linewidth = 1.2, label = 'untrained')\n",
    "ax2.plot(X_trained, Y_trained, color='green', \\\n",
    "          linestyle = '-', marker = 'o', markersize = 1.2, linewidth = 1.2, label = 'trained')\n",
    "\n",
    "ax2.legend(title = '', loc = \"center\") ;\n",
    "\n",
    "\n",
    "plt.subplots_adjust(left = 0.13, bottom = 0.1, top = 0.98,right = 0.99, hspace = None, wspace = None) ;"
   ]
  },
  {
   "cell_type": "code",
   "execution_count": null,
   "metadata": {},
   "outputs": [],
   "source": []
  },
  {
   "cell_type": "code",
   "execution_count": null,
   "metadata": {},
   "outputs": [],
   "source": [
    "# fig.savefig('fig-exp_result_one_qubit_channel.pdf', format='pdf')"
   ]
  },
  {
   "cell_type": "code",
   "execution_count": null,
   "metadata": {},
   "outputs": [],
   "source": []
  },
  {
   "cell_type": "code",
   "execution_count": null,
   "metadata": {},
   "outputs": [],
   "source": []
  },
  {
   "cell_type": "code",
   "execution_count": null,
   "metadata": {},
   "outputs": [],
   "source": []
  }
 ],
 "metadata": {
  "kernelspec": {
   "display_name": "qutip-env",
   "language": "python",
   "name": "qutip-env"
  },
  "language_info": {
   "codemirror_mode": {
    "name": "ipython",
    "version": 3
   },
   "file_extension": ".py",
   "mimetype": "text/x-python",
   "name": "python",
   "nbconvert_exporter": "python",
   "pygments_lexer": "ipython3",
   "version": "3.9.7"
  }
 },
 "nbformat": 4,
 "nbformat_minor": 4
}
