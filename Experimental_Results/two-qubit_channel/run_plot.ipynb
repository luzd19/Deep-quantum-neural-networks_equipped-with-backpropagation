{
 "cells": [
  {
   "cell_type": "code",
   "execution_count": null,
   "metadata": {},
   "outputs": [],
   "source": [
    "import scipy.io as scio\n",
    "import numpy as np \n",
    "import matplotlib.pyplot as plt \n",
    "import matplotlib.ticker as ticker\n",
    "import numpy as np "
   ]
  },
  {
   "cell_type": "code",
   "execution_count": null,
   "metadata": {},
   "outputs": [],
   "source": [
    "learning_curves = scio.loadmat('exp_result_two-qubit_channel/learning_curves.mat')['learning_curves'] ;\n",
    "\n",
    "distr_trained = scio.loadmat('exp_result_two-qubit_channel/distribution_trained.mat');\n",
    "X_trained = distr_trained['X'][0] ;  \n",
    "Y_trained = distr_trained['Y'][0] ; \n",
    "\n",
    "distr_untrained = scio.loadmat('exp_result_two-qubit_channel/distribution_untrained.mat');\n",
    "X_untrained = distr_untrained['X'][0] ;  \n",
    "Y_untrained = distr_untrained['Y'][0] ;"
   ]
  },
  {
   "cell_type": "code",
   "execution_count": null,
   "metadata": {},
   "outputs": [],
   "source": [
    "# learning_curves[:,-1]"
   ]
  },
  {
   "cell_type": "code",
   "execution_count": null,
   "metadata": {},
   "outputs": [],
   "source": []
  },
  {
   "cell_type": "code",
   "execution_count": null,
   "metadata": {
    "scrolled": false
   },
   "outputs": [],
   "source": [
    "plt.rc('font', family = \"Times New Roman\", size = 10) #字体样式和大小\n",
    "fig, ax = plt.subplots(figsize=(3.3, 4.3), dpi=500)\n",
    "\n",
    "ax.set_xlim(left = -0.2,right = 28.2); ax.set_ylim(bottom = 0.1, top = 1)\n",
    "\n",
    "for i in range(5,15):\n",
    "    ax.plot(learning_curves[i], linestyle = '-', marker = 'o', markersize = 4, linewidth = 1.5)\n",
    "    \n",
    "ax.plot(learning_curves[10], linestyle = '-', marker = '>', markersize = 6, linewidth = 1.2)\n",
    "ax.set_xlabel('Epoch', labelpad = 3)  \n",
    "ax.set_ylabel(\"Mean fidelity\", labelpad = 3)  \n",
    "\n",
    "# ax.grid(color = 'gray', linestyle = '--', linewidth = 0.15)\n",
    "\n",
    "#-------------------------------------------------------------------------------\n",
    "def make_label(value, pos):\n",
    "    return '%0.0f%%' % (100/30. * value)\n",
    "\n",
    "left, bottom, width, height = 0.32,0.52,0.38,0.22\n",
    "ax2 = fig.add_axes([left, bottom, width, height])\n",
    "ax2.set_xlim(left = 0.8, right = 1); ax2.set_ylim(bottom = 0, top = 20);\n",
    "ax2.yaxis.set_major_locator(ticker.MultipleLocator(6))\n",
    "\n",
    "ax2.hist(learning_curves[:,-1], bins = 4, rwidth=0.5,color='green', histtype='bar', alpha=0.75)\n",
    "\n",
    "ax2.yaxis.set_major_formatter(ticker.FuncFormatter(make_label))\n",
    "ax2.set_xlabel('Mean fidelity', labelpad = 0)\n",
    "ax2.set_ylabel('Proportion', labelpad = 2)\n",
    "\n",
    "\n",
    "#-------------------------------------------------------------------------------\n",
    "left, bottom, width, height = 0.32,0.19,0.38,0.22\n",
    "ax3 = fig.add_axes([left, bottom, width, height])\n",
    "ax3.set_xlim(left = 0.6, right = 1); ax3.set_ylim(bottom = 0, top = 20);\n",
    "\n",
    "# 轴坐标范围\n",
    "ax3.yaxis.set_major_locator(ticker.MultipleLocator(10))\n",
    "ax3.xaxis.set_major_locator(ticker.MultipleLocator(0.1))\n",
    "# 轴标签 \n",
    "ax3.set_ylabel('Proportion', labelpad = 0)\n",
    "ax3.set_xlabel('Fidelity', labelpad = 2)\n",
    "\n",
    "def make_label(value, pos):\n",
    "    return '%0.0f%%' % (value)\n",
    "ax3.yaxis.set_major_formatter(ticker.FuncFormatter(make_label))\n",
    "\n",
    "#编号\n",
    "# ax[0].text(0.5,1, 'a', fontsize = 25, weight = 'bold');\n",
    "\n",
    "#作图\n",
    "ax3.plot(X_untrained, Y_untrained, color='purple', \\\n",
    "           linestyle = '-', marker = 'o', markersize = 1.5, linewidth = 1, label = 'untrained')\n",
    "ax3.plot(X_trained, Y_trained, color='green', \\\n",
    "          linestyle = '-', marker = 'o', markersize = 1.5, linewidth = 1, label = 'trained')\n",
    "\n",
    "ax3.text(0.6, 15, 'Untrained', fontsize = 10)\n",
    "ax3.text(0.85, 15, 'Trained', fontsize = 10)\n",
    "# ax3.legend(title = '', loc = (1.02,0.5)) ;\n",
    "\n",
    "\n",
    "plt.subplots_adjust(left = 0.14, bottom = 0.10, top = 0.98,right = 0.99, hspace = None, wspace = None) ;"
   ]
  },
  {
   "cell_type": "code",
   "execution_count": null,
   "metadata": {},
   "outputs": [],
   "source": [
    "# fig.savefig('fig-exp_result_two-qubit_channel.pdf', format='pdf')"
   ]
  },
  {
   "cell_type": "code",
   "execution_count": null,
   "metadata": {},
   "outputs": [],
   "source": []
  }
 ],
 "metadata": {
  "kernelspec": {
   "display_name": "qutip-env",
   "language": "python",
   "name": "qutip-env"
  },
  "language_info": {
   "codemirror_mode": {
    "name": "ipython",
    "version": 3
   },
   "file_extension": ".py",
   "mimetype": "text/x-python",
   "name": "python",
   "nbconvert_exporter": "python",
   "pygments_lexer": "ipython3",
   "version": "3.9.7"
  }
 },
 "nbformat": 4,
 "nbformat_minor": 4
}
