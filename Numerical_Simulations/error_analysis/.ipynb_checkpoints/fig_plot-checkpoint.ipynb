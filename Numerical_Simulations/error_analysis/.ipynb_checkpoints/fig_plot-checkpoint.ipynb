{
 "cells": [
  {
   "cell_type": "code",
   "execution_count": null,
   "metadata": {},
   "outputs": [],
   "source": [
    "import scipy.io as scio\n",
    "import numpy as np \n",
    "import matplotlib.pyplot as plt \n",
    "import matplotlib.ticker as ticker"
   ]
  },
  {
   "cell_type": "code",
   "execution_count": null,
   "metadata": {},
   "outputs": [],
   "source": [
    "energy_average = scio.loadmat('energy_history.mat')['energy_average'] "
   ]
  },
  {
   "cell_type": "code",
   "execution_count": null,
   "metadata": {},
   "outputs": [],
   "source": [
    "ref_energy_average = scio.loadmat('ref_energy_history.mat')['ref_energy_average'] "
   ]
  },
  {
   "cell_type": "code",
   "execution_count": null,
   "metadata": {},
   "outputs": [],
   "source": []
  },
  {
   "cell_type": "code",
   "execution_count": null,
   "metadata": {},
   "outputs": [],
   "source": [
    "import matplotlib.ticker as ticker\n",
    "plt.rc('font', family = \"Times New Roman\", size = 10) #字体样式和大小\n",
    "\n",
    "fig, ax2 = plt.subplots(figsize=(3.4,3),dpi=500);  \n",
    "ax2.set_xlabel('Residual ZZ interaction strength (MHz)', labelpad = 3) ;\n",
    "\n",
    "# ax2.xaxis.set_major_formatter(tck.FormatStrFormatter('%g $\\pi$'))\n",
    "\n",
    "ax2.set_xlim(left = -0.1, right = 4)\n",
    "ax2.text(3.1, -1.25, '$T / T_0$', fontsize = 10);\n",
    "# ax2.grid(color = 'gray', linestyle = '--', linewidth = 0.5)\n",
    "\n",
    "ratio = [0.1, 0.25, 0.63, 1.58, 4] ;\n",
    "for i in range(len(energy_average)):\n",
    "    ax2.plot(np.arange(0, 4, 0.5), energy_average[i], linestyle = '-', marker = '>', markersize = 3.5, \\\n",
    "             linewidth = 1.3, label='${%s}$' % (ratio[i]))   \n",
    "    \n",
    "ax2.plot(np.arange(0, 4, 0.2), ref_energy_average[0], linestyle = '--', marker = 'o', markersize = 3.5, \\\n",
    "             linewidth = 1.3, alpha = 0.75,label='$1$')\n",
    "\n",
    "ax2.set_ylabel(\"Average energy estimate (hartree)\", labelpad = 3)\n",
    "\n",
    "ax2.yaxis.set_major_locator(ticker.MultipleLocator(0.2))\n",
    "ax2.legend(title = \"\", loc = \"lower right\")\n",
    "\n",
    "\n",
    "plt.subplots_adjust(left=0.15,bottom=0.14,top=0.98,right=0.98,hspace=None,wspace=None)"
   ]
  },
  {
   "cell_type": "code",
   "execution_count": null,
   "metadata": {},
   "outputs": [],
   "source": [
    "# fig.savefig('figure/error_anaylis.pdf', format='pdf')"
   ]
  },
  {
   "cell_type": "code",
   "execution_count": null,
   "metadata": {},
   "outputs": [],
   "source": []
  },
  {
   "cell_type": "code",
   "execution_count": null,
   "metadata": {},
   "outputs": [],
   "source": []
  }
 ],
 "metadata": {
  "kernelspec": {
   "display_name": "qutip-env",
   "language": "python",
   "name": "qutip-env"
  },
  "language_info": {
   "codemirror_mode": {
    "name": "ipython",
    "version": 3
   },
   "file_extension": ".py",
   "mimetype": "text/x-python",
   "name": "python",
   "nbconvert_exporter": "python",
   "pygments_lexer": "ipython3",
   "version": "3.9.7"
  }
 },
 "nbformat": 4,
 "nbformat_minor": 4
}
