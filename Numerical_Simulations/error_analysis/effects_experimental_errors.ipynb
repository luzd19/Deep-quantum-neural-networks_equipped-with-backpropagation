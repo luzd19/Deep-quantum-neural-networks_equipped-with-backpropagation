{
 "cells": [
  {
   "cell_type": "code",
   "execution_count": null,
   "metadata": {},
   "outputs": [],
   "source": [
    "from exp_train_network_energy_estimate_H2 import *\n",
    "from multiprocessing import Pool\n",
    "import multiprocessing  as mp\n",
    "\n",
    "import scipy.io as scio"
   ]
  },
  {
   "cell_type": "code",
   "execution_count": null,
   "metadata": {},
   "outputs": [],
   "source": [
    "eps = 0.15 ;  iters = 60;"
   ]
  },
  {
   "cell_type": "code",
   "execution_count": null,
   "metadata": {},
   "outputs": [],
   "source": [
    "# generate 30 initial paramaters to train DQNN_1\n",
    "\n",
    "counts_X = 30 ;    X_list = [4 * pi * np.random.random((2,8)) for i in range(counts_X)] ;"
   ]
  },
  {
   "cell_type": "code",
   "execution_count": null,
   "metadata": {},
   "outputs": [],
   "source": [
    "# vary the residual ZZ interaction strengths\n",
    "# choose 8 different interaction strengths from 0~4(MHz)\n",
    "\n",
    "counts_H0 = 8 ;    f_list = np.arange(0, 4, 0.5) ;\n",
    "H0_list = [generate_H0( 2 * pi * 0.001 * f_list[i] + np.zeros([7,7]) ) for i in range(counts_H0)] ;"
   ]
  },
  {
   "cell_type": "code",
   "execution_count": null,
   "metadata": {},
   "outputs": [],
   "source": [
    "# vary the coherence time T in the simulation\n",
    "# adjust T with different ratio (T/T0) to the coherence time T0 in the experiment\n",
    "#  choose 5 different ratio (T/T0) : 10^(-1), 10^(-0.6), 10^(-0.2), 10^(0.2), 10^(0.6)\n",
    "\n",
    "counts_time = 5;    time_list = array([-1 , -0.6, -0.2, 0.2, 0.6]) ;\n",
    "c_ops = [decohere(time_list[i]) for i in range(counts_time) ] ;"
   ]
  },
  {
   "cell_type": "code",
   "execution_count": null,
   "metadata": {},
   "outputs": [],
   "source": []
  },
  {
   "cell_type": "code",
   "execution_count": null,
   "metadata": {},
   "outputs": [],
   "source": [
    "parameters = [ [ H0_list[i], c_ops[j], X_list[k] ]  \n",
    "               for i in range(counts_H0) \n",
    "               for j in range(counts_time)\n",
    "               for k in range(counts_X)    ] ;"
   ]
  },
  {
   "cell_type": "code",
   "execution_count": null,
   "metadata": {},
   "outputs": [],
   "source": []
  },
  {
   "cell_type": "code",
   "execution_count": null,
   "metadata": {},
   "outputs": [],
   "source": [
    "def train(para):\n",
    "    _ , cost_history = train_network(para[2], eps, iters, para[0], para[1]) ;\n",
    "    return cost_history"
   ]
  },
  {
   "cell_type": "code",
   "execution_count": null,
   "metadata": {},
   "outputs": [],
   "source": []
  },
  {
   "cell_type": "code",
   "execution_count": null,
   "metadata": {},
   "outputs": [],
   "source": [
    "if __name__ == \"__main__\":\n",
    "    pool = Pool(processes = mp.cpu_count())\n",
    "    energy_history = pool.map(train, parameters)\n",
    "    pool.close()\n",
    "    pool.join()"
   ]
  },
  {
   "cell_type": "code",
   "execution_count": null,
   "metadata": {},
   "outputs": [],
   "source": []
  },
  {
   "cell_type": "code",
   "execution_count": null,
   "metadata": {},
   "outputs": [],
   "source": [
    "# We observe that the DQNN will converge to the local minimum for 4 initial paramaters.\n",
    "# To numerically investigate the effects of experimental errors in training the DQNN, we exclude \n",
    "# these 4 initial paramaters, and obtain the mean energy estimates \n",
    "# for other initial paramaters under different experimental errors. \n",
    "\n",
    "def average_remove_local_min(energy_estimates):\n",
    "    return mean(sorted(energy_estimates)[0:25])"
   ]
  },
  {
   "cell_type": "code",
   "execution_count": null,
   "metadata": {},
   "outputs": [],
   "source": [
    "energy_average = [average_remove_local_min([energy_history[i+j*counts_X][-1] for i in range(counts_X)]) \n",
    "               for j in range(counts_H0*counts_time)]\n",
    "energy_average = np.reshape(energy_average, (counts_H0, counts_time)).T"
   ]
  },
  {
   "cell_type": "code",
   "execution_count": null,
   "metadata": {},
   "outputs": [],
   "source": []
  },
  {
   "cell_type": "code",
   "execution_count": null,
   "metadata": {},
   "outputs": [],
   "source": [
    "# scio.savemat('energy_history.mat', {'energy_history': energy_history, 'energy_average':energy_average})"
   ]
  },
  {
   "cell_type": "code",
   "execution_count": null,
   "metadata": {},
   "outputs": [],
   "source": []
  },
  {
   "cell_type": "code",
   "execution_count": null,
   "metadata": {},
   "outputs": [],
   "source": []
  },
  {
   "cell_type": "code",
   "execution_count": null,
   "metadata": {},
   "outputs": [],
   "source": []
  },
  {
   "cell_type": "code",
   "execution_count": null,
   "metadata": {},
   "outputs": [],
   "source": []
  }
 ],
 "metadata": {
  "kernelspec": {
   "display_name": "qutip-env",
   "language": "python",
   "name": "qutip-env"
  },
  "language_info": {
   "codemirror_mode": {
    "name": "ipython",
    "version": 3
   },
   "file_extension": ".py",
   "mimetype": "text/x-python",
   "name": "python",
   "nbconvert_exporter": "python",
   "pygments_lexer": "ipython3",
   "version": "3.9.7"
  }
 },
 "nbformat": 4,
 "nbformat_minor": 4
}
