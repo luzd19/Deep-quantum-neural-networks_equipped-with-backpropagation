{
 "cells": [
  {
   "cell_type": "code",
   "execution_count": null,
   "metadata": {},
   "outputs": [],
   "source": [
    "from train_network_one_qubit_channel import *\n",
    "from multiprocessing import Pool\n",
    "import multiprocessing  as mp\n",
    "import scipy.io as scio\n",
    "import matplotlib.pyplot as plt \n",
    "import matplotlib.ticker as ticker"
   ]
  },
  {
   "cell_type": "code",
   "execution_count": null,
   "metadata": {},
   "outputs": [],
   "source": [
    "eps = 0.15 ;  iters = 60;"
   ]
  },
  {
   "cell_type": "code",
   "execution_count": null,
   "metadata": {},
   "outputs": [],
   "source": [
    "# initialization\n",
    "counts_X = 50 ;\n",
    "X_list = [4 * pi * np.random.random((2,5)) for i in range(counts_X)] ;"
   ]
  },
  {
   "cell_type": "code",
   "execution_count": null,
   "metadata": {},
   "outputs": [],
   "source": []
  },
  {
   "cell_type": "code",
   "execution_count": null,
   "metadata": {},
   "outputs": [],
   "source": [
    "def train(X):\n",
    "    _ , cost_history = train_network(X, eps, iters) ;\n",
    "    return cost_history"
   ]
  },
  {
   "cell_type": "code",
   "execution_count": null,
   "metadata": {},
   "outputs": [],
   "source": [
    "if __name__ == \"__main__\":\n",
    "    pool = Pool(processes = mp.cpu_count())\n",
    "    learning_curves = pool.map(train, X_list)\n",
    "    pool.close()\n",
    "    pool.join()"
   ]
  },
  {
   "cell_type": "code",
   "execution_count": null,
   "metadata": {},
   "outputs": [],
   "source": []
  },
  {
   "cell_type": "code",
   "execution_count": null,
   "metadata": {},
   "outputs": [],
   "source": [
    "parameter_history, _ = train_network(X_list[0], eps=0.15, iters=60) ;"
   ]
  },
  {
   "cell_type": "code",
   "execution_count": null,
   "metadata": {},
   "outputs": [],
   "source": [
    "axi_list = 2 * pi * np.random.random([1,100]) ;\n",
    "angle_list = 4 * pi * np.random.random([1,100]) ;\n",
    "\n",
    "test_psi = [] ;\n",
    "\n",
    "\n",
    "for i in range(100):\n",
    "    R1 = cos(angle_list[0][i]/2)* qeye(2) - 1j * sin(angle_list[0][i]/2) * \\\n",
    "       (sigmax() * cos(axi_list[0][i]) + sigmay() * sin(axi_list[0][i]) ) ;\n",
    "    psi = ket2dm( (R1 * basis(2, 0)) ) ;\n",
    "    test_psi.append(psi) ;\n",
    "\n",
    "    \n",
    "\n",
    "distribution_trained = [];  distribution_untrained = []; \n",
    "\n",
    "for j in range(100):\n",
    "    phiout_desire, _ = forward_th(par_target, test_psi[j]) ;\n",
    "    phiout_train, _ = forward_th(parameter_history[-1], test_psi[j]) ;\n",
    "    distribution_trained.append( fidelity(phiout_desire[-1], phiout_train[-1]) ) ;\n",
    "    \n",
    "    phiout_untrain, _ = forward_th(parameter_history[0], test_psi[j]) ;\n",
    "    distribution_untrained.append( fidelity(phiout_desire[-1], phiout_untrain[-1]) ) ;"
   ]
  },
  {
   "cell_type": "code",
   "execution_count": null,
   "metadata": {},
   "outputs": [],
   "source": [
    "# scio.savemat('numerical_result_one_qubit_channel.mat', {'learning_curves': learning_curves, \n",
    "#                                                         'distribution_untrained': distribution_untrained, \n",
    "#                                                         'distribution_trained': distribution_trained})"
   ]
  },
  {
   "cell_type": "code",
   "execution_count": null,
   "metadata": {},
   "outputs": [],
   "source": [
    "# data = scio.loadmat('numerical_result_one_qubit_channel.mat');\n",
    "# learning_curves = data['learning_curves']\n",
    "# distribution_untrained = data['distribution_untrained'][0] ;\n",
    "# distribution_trained = data['distribution_trained'][0] ;"
   ]
  },
  {
   "cell_type": "code",
   "execution_count": null,
   "metadata": {},
   "outputs": [],
   "source": []
  },
  {
   "cell_type": "code",
   "execution_count": null,
   "metadata": {
    "scrolled": false
   },
   "outputs": [],
   "source": [
    "plt.rc('font', family = \"Times New Roman\", size = 10) #字体样式和大小\n",
    "fig, ax = plt.subplots(figsize=(5, 4.5), dpi=500)\n",
    "\n",
    "ax.set_xlim(left = -0.2,right = 60); ax.set_ylim(bottom = 0.1, top = 1)\n",
    "\n",
    "for i in range(counts_X):\n",
    "    ax.plot(learning_curves[i], linestyle = '-', marker = 'o', markersize = 4, linewidth = 1.5)\n",
    "    \n",
    "ax.plot(learning_curves[0], linestyle = '-', marker = '>', markersize = 6, linewidth = 1.2)\n",
    "ax.set_xlabel('Epoch', labelpad = 3)  \n",
    "ax.set_ylabel(\"Mean fidelity\", labelpad = 3)  \n",
    "\n",
    "\n",
    "#-------------------------------------------------------------------------------\n",
    "left, bottom, width, height = 0.75,0.25,0.18,0.22\n",
    "ax2 = fig.add_axes([left, bottom, width, height])\n",
    "ax2.set_xlim(left = 0.9998, right = 0.99997); ax2.set_ylim(bottom = 0, top = 100);\n",
    "\n",
    "# 轴坐标范围\n",
    "ax2.yaxis.set_major_locator(ticker.MultipleLocator(50))\n",
    "ax2.xaxis.set_major_locator(ticker.MultipleLocator(0.00015))\n",
    "\n",
    "# 轴标签 \n",
    "ax2.set_xlabel('Fidelity', labelpad = 3)\n",
    "\n",
    "def make_label(value, pos):\n",
    "    return '%0.0f%%' % (value)\n",
    "ax2.yaxis.set_major_formatter(ticker.FuncFormatter(make_label))\n",
    "\n",
    "#作图\n",
    "ax2.hist(distribution_trained, color='green', bins = 2,  rwidth = 0.5, histtype='bar', alpha=0.75, \\\n",
    "           linestyle = '-', linewidth = 1)\n",
    "\n",
    "ax2.set_yticks([])\n",
    "ax2.text(0.99985, 70, 'Trained', fontsize = 8)\n",
    "\n",
    "\n",
    "#-------------------------------------------------------------------------------\n",
    "\n",
    "left, bottom, width, height = 0.55,0.25,0.18,0.22\n",
    "ax3 = fig.add_axes([left, bottom, width, height])\n",
    "ax3.set_xlim(left = 0.399, right = 0.401); ax3.set_ylim(bottom = 0, top = 100);\n",
    "\n",
    "# 轴坐标范围\n",
    "ax3.yaxis.set_major_locator(ticker.MultipleLocator(50))\n",
    "ax3.xaxis.set_major_locator(ticker.MultipleLocator(0.2))\n",
    "\n",
    "# 轴标签 \n",
    "ax3.set_ylabel('Proportion', labelpad = 2)\n",
    "ax3.set_xlabel('Fidelity', labelpad = 3)\n",
    "\n",
    "def make_label(value, pos):\n",
    "    return '%0.0f%%' % (value)\n",
    "ax3.yaxis.set_major_formatter(ticker.FuncFormatter(make_label))\n",
    "\n",
    "\n",
    "#作图\n",
    "ax3.hist(distribution_untrained, color='purple', bins = 2,  rwidth = 0.5, histtype='bar', alpha=0.75, \\\n",
    "           linestyle = '-', linewidth = 1)\n",
    "\n",
    "ax3.text(0.3994, 70, 'Untrained', fontsize = 8)\n",
    "\n",
    "\n",
    "#------------------------------------------------------------------------------\n",
    "def make_label(value, pos):\n",
    "    return '%0.0f%%' % (100/50. * value)\n",
    "\n",
    "left, bottom, width, height = 0.55,0.6,0.38,0.22\n",
    "ax4 = fig.add_axes([left, bottom, width, height])\n",
    "ax4.set_xlim(left = 0.98, right = 1); ax4.set_ylim(bottom = 0, top = 50);\n",
    "ax4.xaxis.set_major_locator(ticker.MultipleLocator(0.02))\n",
    "ax4.yaxis.set_major_locator(ticker.MultipleLocator(20))\n",
    "\n",
    "ax4.yaxis.set_major_formatter(ticker.FuncFormatter(make_label))\n",
    "counts = [ learning_curves[i][-1] for i in range(counts_X) ] ;\n",
    "ax4.hist(counts, bins = 4, rwidth=0.5, color='green', histtype='bar', alpha=0.75)\n",
    "\n",
    "# ax4.yaxis.set_major_formatter(ticker.FuncFormatter(make_label))\n",
    "ax4.set_xlabel('Mean fidelity', labelpad = 0)\n",
    "ax4.set_ylabel('Proportion', labelpad = 4)\n",
    "\n",
    "plt.subplots_adjust(left = 0.1, bottom = 0.10, top = 0.98,right = 0.98, hspace = None, wspace = None) ;"
   ]
  },
  {
   "cell_type": "code",
   "execution_count": null,
   "metadata": {},
   "outputs": [],
   "source": []
  },
  {
   "cell_type": "code",
   "execution_count": null,
   "metadata": {},
   "outputs": [],
   "source": [
    "# fig.savefig('figure/fig-numerical_result_one_qubit_channel.pdf', format='pdf')"
   ]
  },
  {
   "cell_type": "code",
   "execution_count": null,
   "metadata": {},
   "outputs": [],
   "source": []
  },
  {
   "cell_type": "code",
   "execution_count": null,
   "metadata": {},
   "outputs": [],
   "source": []
  }
 ],
 "metadata": {
  "kernelspec": {
   "display_name": "qutip-env",
   "language": "python",
   "name": "qutip-env"
  },
  "language_info": {
   "codemirror_mode": {
    "name": "ipython",
    "version": 3
   },
   "file_extension": ".py",
   "mimetype": "text/x-python",
   "name": "python",
   "nbconvert_exporter": "python",
   "pygments_lexer": "ipython3",
   "version": "3.9.7"
  }
 },
 "nbformat": 4,
 "nbformat_minor": 4
}
