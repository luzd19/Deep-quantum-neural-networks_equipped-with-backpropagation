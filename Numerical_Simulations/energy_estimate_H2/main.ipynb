{
 "cells": [
  {
   "cell_type": "code",
   "execution_count": null,
   "metadata": {},
   "outputs": [],
   "source": [
    "from train_network_energy_estimate_H2 import *\n",
    "from multiprocessing import Pool\n",
    "import multiprocessing  as mp\n",
    "import scipy.io as scio\n",
    "import matplotlib.pyplot as plt \n",
    "import matplotlib.ticker as ticker"
   ]
  },
  {
   "cell_type": "code",
   "execution_count": null,
   "metadata": {},
   "outputs": [],
   "source": [
    "eps = 0.15 ;  \n",
    "iters = 60;"
   ]
  },
  {
   "cell_type": "code",
   "execution_count": null,
   "metadata": {},
   "outputs": [],
   "source": [
    "# initialization\n",
    "counts_X = 50 ;\n",
    "X_list = [4 * pi * np.random.random((2,8)) for i in range(counts_X)] ;"
   ]
  },
  {
   "cell_type": "code",
   "execution_count": null,
   "metadata": {},
   "outputs": [],
   "source": []
  },
  {
   "cell_type": "code",
   "execution_count": null,
   "metadata": {},
   "outputs": [],
   "source": [
    "def train(X):\n",
    "    _ , learning_curve = train_network(X, eps, iters) ;\n",
    "    return learning_curve"
   ]
  },
  {
   "cell_type": "code",
   "execution_count": null,
   "metadata": {},
   "outputs": [],
   "source": []
  },
  {
   "cell_type": "code",
   "execution_count": null,
   "metadata": {
    "scrolled": true
   },
   "outputs": [],
   "source": [
    "if __name__ == \"__main__\":\n",
    "    pool = Pool(processes = mp.cpu_count())\n",
    "    learning_curves = pool.map(train, X_list)\n",
    "    pool.close()\n",
    "    pool.join()\n",
    "\n",
    "# scio.savemat('numerical_results_energy estimate_H2.mat', {'learning_curves': learning_curves})"
   ]
  },
  {
   "cell_type": "code",
   "execution_count": null,
   "metadata": {},
   "outputs": [],
   "source": []
  },
  {
   "cell_type": "code",
   "execution_count": null,
   "metadata": {
    "scrolled": true
   },
   "outputs": [],
   "source": [
    "# learning_curves = scio.loadmat('numerical_results_energy_estimate_H2.mat')['learning_curves'];"
   ]
  },
  {
   "cell_type": "code",
   "execution_count": null,
   "metadata": {},
   "outputs": [],
   "source": []
  },
  {
   "cell_type": "code",
   "execution_count": null,
   "metadata": {
    "scrolled": false
   },
   "outputs": [],
   "source": [
    "plt.rc('font', family = \"Times New Roman\", size = 10) #字体样式和大小\n",
    "fig, ax = plt.subplots(figsize=(5, 4.5), dpi=500)\n",
    "\n",
    "ax.set_xlim(left = -0.2,right = 60); ax.set_ylim(bottom = -1.9, top = 0)\n",
    "\n",
    "for i in range(counts_X):\n",
    "    ax.plot(learning_curves[i], linestyle = '-', marker = 'o', markersize = 4, linewidth = 1.5)\n",
    "    \n",
    "ax.set_xlabel('Epoch', labelpad = 3)  \n",
    "ax.set_ylabel(\"Energy estimate (hartree)\", labelpad = 3)  \n",
    "ax.yaxis.set_major_locator(plt.MultipleLocator(0.3))\n",
    "\n",
    "#---------------------------------------------------------------------------------------------------\n",
    "left, bottom, width, height = 0.79,0.52,0.18,0.3\n",
    "ax2 = fig.add_axes([left, bottom, width, height])\n",
    "# ax2.set_xlim(left = -1.85, right = -1.8); \n",
    "ax2.set_ylim(bottom = 0, top = 50);\n",
    "\n",
    "# 轴坐标范围\n",
    "ax2.yaxis.set_major_locator(ticker.MultipleLocator(22.5))\n",
    "ax2.xaxis.set_major_locator(ticker.MultipleLocator(0.5))\n",
    "\n",
    "# 轴标签 \n",
    "ax2.set_ylabel('Proportion', labelpad = 5)\n",
    "ax2.set_xlabel('Energy estimate \\n (hartree)', labelpad = 3)\n",
    "\n",
    "def make_label(value, pos):\n",
    "    return '%0.0f%%' % (100/50. * value)\n",
    "ax2.yaxis.set_major_formatter(ticker.FuncFormatter(make_label))\n",
    "\n",
    "\n",
    "#作图\n",
    "counts = [ learning_curves[i][-1] for i in range(counts_X) ] ;\n",
    "\n",
    "ax2.hist(counts, color='green', bins = 5,  rwidth = 0.5, histtype='bar', alpha=0.75, \\\n",
    "           linestyle = '-', linewidth = 1)\n",
    "\n",
    "\n",
    "plt.subplots_adjust(left = 0.12, bottom = 0.10, top = 0.98,right = 0.98, hspace = None, wspace = None) ;"
   ]
  },
  {
   "cell_type": "code",
   "execution_count": null,
   "metadata": {},
   "outputs": [],
   "source": []
  },
  {
   "cell_type": "code",
   "execution_count": null,
   "metadata": {},
   "outputs": [],
   "source": [
    "# fig.savefig('figure/fig-numerical_result_energy_estimate_H2.pdf', format='pdf')"
   ]
  },
  {
   "cell_type": "code",
   "execution_count": null,
   "metadata": {},
   "outputs": [],
   "source": []
  }
 ],
 "metadata": {
  "kernelspec": {
   "display_name": "qutip-env",
   "language": "python",
   "name": "qutip-env"
  },
  "language_info": {
   "codemirror_mode": {
    "name": "ipython",
    "version": 3
   },
   "file_extension": ".py",
   "mimetype": "text/x-python",
   "name": "python",
   "nbconvert_exporter": "python",
   "pygments_lexer": "ipython3",
   "version": "3.9.7"
  }
 },
 "nbformat": 4,
 "nbformat_minor": 4
}
